{
 "cells": [
  {
   "cell_type": "markdown",
   "id": "835b4530",
   "metadata": {},
   "source": [
    "# Operation Research:An Introduction\n",
    "\n",
    "Bu çalışma operation research kapsamında konulara ilşikin soru ve çözümlerine yer veren kapsamlı bir çalışma olması amacı ile hazırlanmıştır.Bu çalışmadaki içerik *Operation Research:An Introduction* kitabında yer alan sorular ve bunlar ailşikin çözümleri barındırır.\n",
    "\n",
    "__author__ = \"Merve Nur Özdemir\"\n",
    "__version__ = \"1.0\"\n",
    "__email__ = \"demirmerwenur@gmail.com\""
   ]
  },
  {
   "cell_type": "markdown",
   "id": "aee6c901",
   "metadata": {},
   "source": [
    "## Linear Programming\n",
    "\n",
    "## Contents \n",
    "1. [Two variable LP Model](#Two_variable_LP_Model)\n",
    "1. [Graphical LP Solution](#Graphical_LP_Solution)\n",
    "1. [ LP Applicaitons](#LP_Applicaitons)\n",
    "1. [The Simplex Method and Sensitivity Analysis](#The_Simplex_Method_and_Sensitivity_Analysis)\n",
    "1. [Duality and Post-Optimal Analysis](#Duality_and_PostOptimal_Analysis)\n",
    "1. [Trasnportaiton Model and Its Variants](#Trasnportaiton_Model_and_Its_Variants)\n",
    "1. [Advance Linear Programming](#Advance_Linear_Programming)\n",
    "1. [Goal Programming](#Goal_Programming)\n",
    "1. [Integer Linear Programming](#Integer_Linear_Programming)\n",
    "1. [Deterministic Dynamic Programming](#Deterministic_Dynamic_Programming)\n",
    "1. [Decision Analysis and Games](#Decision_Analysis_and_Games)\n"
   ]
  },
  {
   "cell_type": "markdown",
   "id": "23b5a3a6",
   "metadata": {},
   "source": [
    "###  Two variable LP Model\n",
    "#### Solution of maximizing model"
   ]
  },
  {
   "cell_type": "markdown",
   "id": "7c098157",
   "metadata": {},
   "source": [
    "**<font color=red>*Question-1*</font>**\n",
    "\n",
    "A company that operates 10 hours a day manufactures two products on tree sequential processes.The following table summarizes the data of the problem: (Ps Processes represent minutes per unit)\n",
    "\n",
    "|Product |Process 1|Process 2|Process 3|Unit Profit|\n",
    "|--------|---------|---------|---------|-----------|\n",
    "|1|10|6|8|2 dolar|\n",
    "|2|5|20|10|3 dolar|\n",
    "\n",
    "Determine the optimal mix of the two products."
   ]
  },
  {
   "cell_type": "markdown",
   "id": "b0788b0c",
   "metadata": {},
   "source": [
    "**<font color=red>*Answer*</font>**\n"
   ]
  },
  {
   "cell_type": "code",
   "execution_count": 47,
   "id": "897e7796",
   "metadata": {
    "scrolled": false
   },
   "outputs": [
    {
     "name": "stdout",
     "output_type": "stream",
     "text": [
      "Problem:\n",
      "MAXIMIZE\n",
      "2*x_1 + 3*x_2 + 0\n",
      "SUBJECT TO\n",
      "_C1: 2 x_1 + 3 x_2 >= 12\n",
      "\n",
      "_C2: 10 x_1 + 5 x_2 <= 600\n",
      "\n",
      "_C3: 6 x_1 + 20 x_2 <= 600\n",
      "\n",
      "_C4: 8 x_1 + 10 x_2 <= 600\n",
      "\n",
      "VARIABLES\n",
      "x_1 Continuous\n",
      "x_2 Continuous\n",
      "\n",
      "Optimal\n",
      "x_1= 52.941176 x_2= 14.117647 z= 148.235293\n"
     ]
    }
   ],
   "source": [
    "#import sys !{sys.executable} -m pip install pulp\n",
    "# import the library pulp as p\n",
    "import pulp as p\n",
    "  \n",
    "# Create a LP Minimization problem\n",
    "Lp_prob = p.LpProblem('Problem', p.LpMaximize) \n",
    "  \n",
    "# Create problem Variables \n",
    "x_1 = p.LpVariable(\"x_1\", lowBound = 0)   # Create a variable x >= 0\n",
    "x_2 = p.LpVariable(\"x_2\", lowBound = 0)   # Create a variable y >= 0\n",
    "  \n",
    "# Objective Function\n",
    "Lp_prob += 2 * x_1 + 3 * x_2   \n",
    "  \n",
    "# Constraints:\n",
    "Lp_prob += 2 * x_1+ 3 * x_2 >= 12\n",
    "Lp_prob += 10*x_1 + 5*x_2 <= 600\n",
    "Lp_prob += 6*x_1 + 20*x_2 <= 600\n",
    "Lp_prob +=  8*x_1 + 10*x_2 <= 600\n",
    "  \n",
    "# Display the problem\n",
    "print(Lp_prob)\n",
    "  \n",
    "status = Lp_prob.solve()   # Solver\n",
    "print(p.LpStatus[status])   # The solution status\n",
    "  \n",
    "    \n",
    "# Printing the final solution\n",
    "print(\"x_1=\",p.value(x_1),\"x_2=\", p.value(x_2), \"z=\",p.value(Lp_prob.objective)) "
   ]
  },
  {
   "cell_type": "markdown",
   "id": "817a706b",
   "metadata": {},
   "source": [
    "**<font color=red>*Question-2*</font>** <br>\n",
    "An individual wishes to invest $5000 over the next year in two types of investment:investment yield %5 and investment B yield %8 Market research recommend an allocaiton of at least %25 in A and at most %50 in B More over investment in A should be at least half in the investment in B.How should the found allocated the two investments?\n",
    "\n",
    "**<font color=red>*Answer-2*</font>** <br>"
   ]
  },
  {
   "cell_type": "code",
   "execution_count": 48,
   "id": "d9663291",
   "metadata": {},
   "outputs": [
    {
     "name": "stdout",
     "output_type": "stream",
     "text": [
      "İnvestment_Problem:\n",
      "MAXIMIZE\n",
      "0.05*x_1 + 0.08*x_2 + 0.0\n",
      "SUBJECT TO\n",
      "_C1: 0.75 x_1 - 0.25 x_2 >= 0\n",
      "\n",
      "_C2: - 0.5 x_1 + 0.5 x_2 <= 0\n",
      "\n",
      "_C3: 2 x_1 - x_2 >= 0\n",
      "\n",
      "_C4: x_1 + x_2 <= 5000\n",
      "\n",
      "VARIABLES\n",
      "x_1 Continuous\n",
      "x_2 Continuous\n",
      "\n",
      "Optimal\n",
      "x_1= 2500.0 x_2= 2500.0 z= 325.0\n"
     ]
    }
   ],
   "source": [
    "#import sys !{sys.executable} -m pip install pulp\n",
    "# import the library pulp as p\n",
    "import pulp as p\n",
    "  \n",
    "# Create a LP Minimization problem\n",
    "Lp_prob = p.LpProblem('İnvestment_Problem', p.LpMaximize) \n",
    "  \n",
    "# Create problem Variables \n",
    "x_1 = p.LpVariable(\"x_1\", lowBound = 0)   # Create a variable x >= 0 dolar invested in A\n",
    "x_2 = p.LpVariable(\"x_2\", lowBound = 0)   # Create a variable y >= 0 dolar invested in B\n",
    "  \n",
    "# Objective Function\n",
    "Lp_prob += 0.05 * x_1 + 0.08 * x_2   \n",
    "  \n",
    "# Constraints:\n",
    "Lp_prob += x_1>= 0.25*(x_1+x_2)\n",
    "Lp_prob += x_2 <= 0.5*(x_1+x_2)\n",
    "Lp_prob += 2*x_1 >= x_2 \n",
    "Lp_prob += x_1 +x_2 <= 5000\n",
    "\n",
    "  \n",
    "# Display the problem\n",
    "print(Lp_prob)\n",
    "  \n",
    "status = Lp_prob.solve()   # Solver\n",
    "print(p.LpStatus[status])   # The solution status\n",
    "  \n",
    "    \n",
    "# Printing the final solution\n",
    "print(\"x_1=\",p.value(x_1),\"x_2=\", p.value(x_2), \"z=\",p.value(Lp_prob.objective)) "
   ]
  },
  {
   "cell_type": "markdown",
   "id": "37f7eb4d",
   "metadata": {},
   "source": [
    "### Graphical LP Solution\n",
    "The graphical soluiton includes two steps:\n",
    "1. Determination of the feasible solution space\n",
    "2. Determination of th eoptimum solution from among all the feasible points in the soluiton space"
   ]
  },
  {
   "cell_type": "code",
   "execution_count": 49,
   "id": "b7c6e62c",
   "metadata": {},
   "outputs": [],
   "source": [
    "import numpy as np\n",
    "from scipy.optimize import linprog\n",
    "import matplotlib.pyplot as plt\n",
    "from matplotlib.patches import Polygon\n",
    "%matplotlib inline"
   ]
  },
  {
   "cell_type": "code",
   "execution_count": 50,
   "id": "fa0449b2",
   "metadata": {
    "scrolled": true
   },
   "outputs": [
    {
     "data": {
      "image/png": "[encoded data removed]",
      "text/plain": [
       "<Figure size 576x432 with 1 Axes>"
      ]
     },
     "metadata": {
      "needs_background": "light"
     },
     "output_type": "display_data"
    }
   ],
   "source": [
    "fig, ax = plt.subplots(figsize=(8, 6))\n",
    "ax.grid()\n",
    "\n",
    "# Draw constraint lines\n",
    "ax.hlines(0, -1, 17.5)\n",
    "ax.vlines(0, -1, 12)\n",
    "ax.plot(np.linspace(-1, 17.5, 100), 6-0.4*np.linspace(-1, 17.5, 100), color=\"c\")\n",
    "ax.plot(np.linspace(-1, 5.5, 100), 10-2*np.linspace(-1, 5.5, 100), color=\"c\")\n",
    "ax.text(1.5, 8, \"$2x_1 + 5x_2 \\leq 30$\", size=12)\n",
    "ax.text(10, 2.5, \"$4x_1 + 2x_2 \\leq 20$\", size=12)\n",
    "ax.text(-2, 2, \"$x_2 \\geq 0$\", size=12)\n",
    "ax.text(2.5, -0.7, \"$x_1 \\geq 0$\", size=12)\n",
    "\n",
    "# Draw the feasible region\n",
    "feasible_set = Polygon(np.array([[0, 0], \n",
    "                                 [0, 6], \n",
    "                                 [2.5, 5], \n",
    "                                 [5, 0]]), \n",
    "                       color=\"cyan\")\n",
    "ax.add_patch(feasible_set)\n",
    "\n",
    "# Draw the objective function\n",
    "ax.plot(np.linspace(-1, 5.5, 100), 3.875-0.75*np.linspace(-1, 5.5, 100), color=\"orange\")\n",
    "ax.plot(np.linspace(-1, 5.5, 100), 5.375-0.75*np.linspace(-1, 5.5, 100), color=\"orange\")\n",
    "ax.plot(np.linspace(-1, 5.5, 100), 6.875-0.75*np.linspace(-1, 5.5, 100), color=\"orange\")\n",
    "ax.arrow(-1.6, 5, 0, 2, width = 0.05, head_width=0.2, head_length=0.5, color=\"orange\")\n",
    "ax.text(5.7, 1, \"$z = 3x_1 + 4x_2$\", size=12)\n",
    "\n",
    "# Draw the optimal solution\n",
    "ax.plot(2.5, 5, \"*\", color=\"black\")\n",
    "ax.text(2.7, 5.2, \"Optimal Solution\", size=12)\n",
    "\n",
    "plt.show()"
   ]
  },
  {
   "cell_type": "code",
   "execution_count": 51,
   "id": "a6dac3fd",
   "metadata": {},
   "outputs": [
    {
     "data": {
      "text/plain": [
       "Text(0, 0.5, '$y$')"
      ]
     },
     "execution_count": 51,
     "metadata": {},
     "output_type": "execute_result"
    },
    {
     "data": {
      "image/png": "[encoded data removed]",
      "text/plain": [
       "<Figure size 432x288 with 1 Axes>"
      ]
     },
     "metadata": {
      "needs_background": "light"
     },
     "output_type": "display_data"
    }
   ],
   "source": [
    "### alternative\n",
    "# plot the feasible region\n",
    "d = np.linspace(-2,16,300)\n",
    "x,y = np.meshgrid(d,d)\n",
    "plt.imshow( ((y>=2) & (2*y<=25-x) & (4*y>=2*x-8) & (y<=2*x-5)).astype(int) , \n",
    "                extent=(x.min(),x.max(),y.min(),y.max()),origin=\"lower\", cmap=\"Greys\", alpha = 0.3);\n",
    "\n",
    "\n",
    "# plot the lines defining the constraints\n",
    "x = np.linspace(0, 16, 2000)\n",
    "# y >= 2\n",
    "y1 = (x*0) + 2\n",
    "# 2y <= 25 - x\n",
    "y2 = (25-x)/2.0\n",
    "# 4y >= 2x - 8 \n",
    "y3 = (2*x-8)/4.0\n",
    "# y <= 2x - 5 \n",
    "y4 = 2 * x -5\n",
    "\n",
    "# Make plot\n",
    "plt.plot(x, 2*np.ones_like(y1))\n",
    "plt.plot(x, y2, label=r'$2y\\leq25-x$')\n",
    "plt.plot(x, y3, label=r'$4y\\geq 2x - 8$')\n",
    "plt.plot(x, y4, label=r'$y\\leq 2x-5$')\n",
    "plt.xlim(0,16)\n",
    "plt.ylim(0,11)\n",
    "plt.legend(bbox_to_anchor=(1.05, 1), loc=2, borderaxespad=0.)\n",
    "plt.xlabel(r'$x$')\n",
    "plt.ylabel(r'$y$')"
   ]
  },
  {
   "cell_type": "markdown",
   "id": "fdfdfbde",
   "metadata": {},
   "source": [
    "#### Solution of minimizing model"
   ]
  },
  {
   "cell_type": "markdown",
   "id": "ea20aa5b",
   "metadata": {},
   "source": [
    "**<font color=red>*Question-3*</font>** <br>\n",
    "Ozark farm uses at least 800 ıb of special feed daily.The special feed is a mixture of corn and soybean meal with the following compositions:\n",
    "     <br>Ib per Ib of feedstuff <br>\n",
    "   \n",
    "|Feedstuff |Protein |Fiber |Cost|\n",
    "|----------|--------|------|----|\n",
    "|`Corn`|.09|.02|.30|\n",
    "|`Soybean`|.60|.06|.90|  \n",
    "\n",
    "<br>\n",
    "   The diatery requirements of special feed are at least 30% protein and at most %5 fiber .Ozark farms wishes to determine the daily minimum cost.\n",
    "    \n",
    "**<font color=red>*Answer-3*</font>** <br>"
   ]
  },
  {
   "cell_type": "code",
   "execution_count": 52,
   "id": "57f6f3b2",
   "metadata": {},
   "outputs": [
    {
     "name": "stdout",
     "output_type": "stream",
     "text": [
      "Mixed_Problem:\n",
      "MINIMIZE\n",
      "0.3*x_1 + 0.9*x_2 + 0.0\n",
      "SUBJECT TO\n",
      "_C1: - 0.21 x_1 + 0.3 x_2 >= 0\n",
      "\n",
      "_C2: - 0.03 x_1 + 0.01 x_2 <= 0\n",
      "\n",
      "_C3: x_1 + x_2 >= 800\n",
      "\n",
      "VARIABLES\n",
      "x_1 Continuous\n",
      "x_2 Continuous\n",
      "\n",
      "Optimal\n",
      "x_1= 470.58824 x_2= 329.41176 z= 437.647056\n"
     ]
    }
   ],
   "source": [
    "#import sys !{sys.executable} -m pip install pulp\n",
    "# import the library pulp as p\n",
    "import pulp as p\n",
    "  \n",
    "# Create a LP Minimization problem\n",
    "Lp_prob = p.LpProblem('Mixed_Problem', p.LpMinimize) \n",
    "  \n",
    "# Create problem Variables \n",
    "x_1 = p.LpVariable(\"x_1\", lowBound = 0)   # Create a variable x >= 0 dolar invested in A\n",
    "x_2 = p.LpVariable(\"x_2\", lowBound = 0)   # Create a variable y >= 0 dolar invested in B\n",
    "  \n",
    "# Objective Function\n",
    "Lp_prob += 0.30 * x_1 + 0.90 * x_2   \n",
    "  \n",
    "# Constraints:\n",
    "Lp_prob += .09*x_1 + .60*x_2>= 0.3*(x_1+x_2)\n",
    "Lp_prob += .02*x_1 + .06*x_2<= 0.05*(x_1+x_2)\n",
    "Lp_prob += (x_1+x_2) >=800\n",
    "\n",
    "  \n",
    "# Display the problem\n",
    "print(Lp_prob)\n",
    "  \n",
    "status = Lp_prob.solve()   # Solver\n",
    "print(p.LpStatus[status])   # The solution status\n",
    "  \n",
    "    \n",
    "# Printing the final solution\n",
    "print(\"x_1=\",p.value(x_1),\"x_2=\", p.value(x_2), \"z=\",p.value(Lp_prob.objective)) "
   ]
  },
  {
   "cell_type": "markdown",
   "id": "9c4aa261",
   "metadata": {},
   "source": [
    "### LP Applicaitons\n",
    "1. [Urban planing](#Urban_planing)\n",
    "2. [Currency Arbitrage](#Currency_Arbitrage)\n",
    "3. [Investment](#Investment)\n",
    "4. [Production Planning and Inventory Control](#Production_Planning_and_Inventory_Control)\n",
    "5. [Blending and Refining](#Blending_and_Refining)\n",
    "6. [Manpower Planning](#Manpower_Planning)\n",
    "7. [Additional Applicaitons](#Additional_Applicaitons)\n"
   ]
  },
  {
   "cell_type": "markdown",
   "id": "2720c1f2",
   "metadata": {},
   "source": [
    "#### Urban planing <a name=\"Urban_planing\"></a>\n",
    "**<font color=red>*Question-4*</font>** <br>\n",
    "The city Erstville is faced with severe budget shortage.Seeking a long term solution, the city council votes to improve the tax base by condeming an inner city housing area and replace it with a modern development.\n",
    "\n",
    "The project involves two phases:(1) demolishing substandard houses to provide land for the new development , and (2) building the new development.The following is a summary of the situation.\n",
    "\n",
    "1. As many as 300 substandard houses can be demolished.Each house occupies a 25-acre lot.The cost of demolishing a condemned house is 2000 dolar\n",
    "2. Lot sizes for new single-double-triple and quadruple family homes(units)are .18-.28-.4and .5 acre, respectively.Streets, open space and utiliy asements account for 15% of avaliable\n",
    "3. In the new development the triple and quadruple units account for at least 25% of the total.Single units must be at least 20% of all units and double units is $1000, $1900 , $2700 and $3400, respectively.\n",
    "4. the tax levied per unit for single-double-triple and quadruple units family homes is $50.000, $70.000,$130.000,$160.000 repectively.Financing throuhg a local bank can amount to a maximum of $15 million.\n",
    "\n",
    "How many units of each type should be constructed to maximize tax colleciton.\n",
    "\n",
    "**<font color=red>*Answer-4*</font>** <br>\n",
    "\n",
    "The variables of the problem can be defined as: \n",
    "- x_1 = Number of units of single family homes.\n",
    "- x_2 = Number of units of double family homes.\n",
    "- x_3 = Number of units of triple family homes.\n",
    "- x_4 = Number of units of quadruple family homes.\n",
    "- x_5 = Number of old homes to be demolished."
   ]
  },
  {
   "cell_type": "code",
   "execution_count": 53,
   "id": "f0947091",
   "metadata": {
    "scrolled": true
   },
   "outputs": [
    {
     "name": "stdout",
     "output_type": "stream",
     "text": [
      "Urban_planing:\n",
      "MAXIMIZE\n",
      "1000*x_1 + 1900*x_2 + 2700*x_3 + 3400*x_4 + 0\n",
      "SUBJECT TO\n",
      "_C1: 0.18 x_1 + 0.28 x_2 + 0.4 x_3 + 0.5 x_4 - 0.2125 x_5 <= 0\n",
      "\n",
      "_C2: x_5 <= 300\n",
      "\n",
      "_C3: - 0.8 x_1 + 0.2 x_2 + 0.2 x_3 + 0.2 x_4 <= 0\n",
      "\n",
      "_C4: 0.1 x_1 - 0.9 x_2 + 0.1 x_3 + 0.1 x_4 <= 0\n",
      "\n",
      "_C5: 0.25 x_1 + 0.25 x_2 - 0.75 x_3 - 0.75 x_4 <= 0\n",
      "\n",
      "_C6: 50 x_1 + 70 x_2 + 130 x_3 + 160 x_4 + 2 x_5 <= 15000\n",
      "\n",
      "VARIABLES\n",
      "x_1 Continuous\n",
      "x_2 Continuous\n",
      "x_3 Continuous\n",
      "x_4 Continuous\n",
      "x_5 Continuous\n",
      "\n",
      "Optimal\n",
      "x_1= 35.829704 x_2= 98.531685 x_3= 44.787129 x_4= 0.0 x_5= 244.48504 z= 343965.1538\n"
     ]
    }
   ],
   "source": [
    "#import sys !{sys.executable} -m pip install pulp\n",
    "# import the library pulp as p\n",
    "import pulp as p\n",
    "  \n",
    "# Create a LP Maximizaiton problem\n",
    "Lp_prob = p.LpProblem('Urban_planing', p.LpMaximize) \n",
    "  \n",
    "# Create problem Variables \n",
    "x_1 = p.LpVariable(\"x_1\", lowBound = 0)  \n",
    "x_2 = p.LpVariable(\"x_2\", lowBound = 0)   \n",
    "x_3 = p.LpVariable(\"x_3\", lowBound = 0)  \n",
    "x_4 = p.LpVariable(\"x_4\", lowBound = 0) \n",
    "x_5 = p.LpVariable(\"x_5\", lowBound = 0)  \n",
    "\n",
    "  \n",
    "# Objective Function\n",
    "Lp_prob += 1000* x_1 + 1900 * x_2   + 2700 * x_3   + 3400 * x_4  \n",
    "  \n",
    "# Constraints:\n",
    "# The first constraint of the problem deals with land avalibility %15 open streets and easment , the net acrega avalible is .85*(.25*x_5) =.2125*x_5\n",
    "Lp_prob += 0.18*x_1+0.28*x_2+0.4*x_3+0.5*x_4 <=0.2125*x_5\n",
    "Lp_prob += x_5<=300\n",
    "Lp_prob += -0.8*x_1+0.2*x_2+0.2*x_3+0.2*x_4 <=0\n",
    "Lp_prob += 0.1*x_1-0.9*x_2+0.1*x_3+0.1*x_4<=0\n",
    "Lp_prob += 0.25*x_1+0.25*x_2-0.75*x_3-0.75*x_4<= 0\n",
    "Lp_prob += 50*x_1+70*x_2+130*x_3+160*x_4+2*x_5<= 15000\n",
    "  \n",
    "# Display the problem\n",
    "print(Lp_prob)\n",
    "  \n",
    "status = Lp_prob.solve()   # Solver\n",
    "print(p.LpStatus[status])   # The solution status\n",
    "  \n",
    "    \n",
    "# Printing the final solution\n",
    "print(\"x_1=\",p.value(x_1),\"x_2=\", p.value(x_2), \"x_3=\",p.value(x_3),\"x_4=\", p.value(x_4),\"x_5=\", p.value(x_5), \"z=\",p.value(Lp_prob.objective)) "
   ]
  },
  {
   "cell_type": "markdown",
   "id": "11fb8789",
   "metadata": {},
   "source": [
    "**<font color=red>*Question-5*</font>** <br>\n",
    "A city will undertake five urban renewal housing projects over the next five years.Each project has a different starating year and a differenet duraiton.The following table  provides the basic data of the situation.\n",
    "\n",
    "|  |Year 1 |Year 2 |Year 3 |Year 4 |Year 5 |Cost|Annual Income |\n",
    "|--|-------|-------|-------|-------|-------|----|--------------|\n",
    "|`Project 1`|Start||End|||5.0|.05|\n",
    "|`Project 2`||Start|||End|8.0|.07|\n",
    "|`Project 3`|Start||||End|15.0|.15|\n",
    "|`Project 4`|||Start|End||1.2|.02|\n",
    "|`Budget`|3|6|7|7|7|||\n",
    "\n",
    "Project 1 and 4 must be finished completely within their duraitons.The remaining two projects can be finished partially eithin budget limitaitons, İf necessary.However, each project must be at least 25% completed within its duraiton.At the end of the each year, the comleted section of a project is immediately occupied by tenants and a proportial amount of the in come realized.For examplei if 40% of th eproject 1 completedin year 1 and 60% in year 3, the associated income over the five year planning horizon is .4*50.000 dolar(for year2) + .4*50.000 dolar(for year3)+(.4+.6)*50.000 dolar(for year4) +(.4+.6)*50.000 dolar(for year5) =(4*.4+2*.6)*50.000 dolar <br>\n",
    "Determine the optimal schedule for the projects that will maximize the total income over the five-year horizon.For simplicity,diregard the time value of money.\n",
    "\n",
    "**<font color=red>*Answer-5*</font>** <br>\n",
    "\n",
    "\n",
    "Portion of project i completed in year j: $$X_{ij}$$ \n"
   ]
  },
  {
   "cell_type": "markdown",
   "id": "9a6f88fd",
   "metadata": {},
   "source": [
    "**<font color=cyan>*Çözüm için devam edeceğim*</font>** <br>"
   ]
  },
  {
   "cell_type": "code",
   "execution_count": null,
   "id": "470c497c",
   "metadata": {},
   "outputs": [],
   "source": [
    "#import sys !{sys.executable} -m pip install pulp\n",
    "# import the library pulp as p\n",
    "import pulp as p\n",
    "  \n",
    "# Create a LP Maximizaiton problem\n",
    "Lp_prob = p.LpProblem('Urban_planing', p.LpMaximize) \n",
    "  \n",
    "# Create problem Variables \n",
    "x_1 = p.LpVariable(\"x_1\", lowBound = 0)  \n",
    "x_2 = p.LpVariable(\"x_2\", lowBound = 0)   \n",
    "x_3 = p.LpVariable(\"x_3\", lowBound = 0)  \n",
    "x_4 = p.LpVariable(\"x_4\", lowBound = 0) \n",
    " \n",
    "\n",
    "  \n",
    "# Objective Function\n",
    "Lp_prob +=0.5() 1000* x_1 + 1900 * x_2   + 2700 * x_3   + 3400 * x_4  \n",
    "  \n",
    "# Constraints:\n",
    "# The first constraint of the problem deals with land avalibility %15 open streets and easment , the net acrega avalible is .85*(.25*x_5) =.2125*x_5\n",
    "Lp_prob += 0.18*x_1+0.28*x_2+0.4*x_3+0.5*x_4 <=0.2125*x_5\n",
    "Lp_prob += x_5<=300\n",
    "Lp_prob += -0.8*x_1+0.2*x_2+0.2*x_3+0.2*x_4 <=0\n",
    "Lp_prob += 0.1*x_1-0.9*x_2+0.1*x_3+0.1*x_4<=0\n",
    "Lp_prob += 0.25*x_1+0.25*x_2-0.75*x_3-0.75*x_4<= 0\n",
    "Lp_prob += 50*x_1+70*x_2+130*x_3+160*x_4+2*x_5<= 15000\n",
    "  \n",
    "# Display the problem\n",
    "print(Lp_prob)\n",
    "  \n",
    "status = Lp_prob.solve()   # Solver\n",
    "print(p.LpStatus[status])   # The solution status\n",
    "  \n",
    "    \n",
    "# Printing the final solution\n",
    "print(\"x_1=\",p.value(x_1),\"x_2=\", p.value(x_2), \"x_3=\",p.value(x_3),\"x_4=\", p.value(x_4),\"x_5=\", p.value(x_5), \"z=\",p.value(Lp_prob.objective)) "
   ]
  },
  {
   "cell_type": "markdown",
   "id": "a2445323",
   "metadata": {},
   "source": [
    "#### Currency Arbitrage <a name=\"Currency_Arbitrage\"></a>"
   ]
  },
  {
   "cell_type": "markdown",
   "id": "9d32866a",
   "metadata": {},
   "source": [
    "#### Investment <a name=\"Investment\"></a>\n",
    "**<font color=red>*Question-4*</font>** <br>\n",
    "Thriftem Bank is in the process of devising a loan poilcy that involves a maximum of $$12 million.The following table provides the pertinent data about avaliable types of loans.\n",
    "\n",
    "|Type of loan |Interest Rate |Bad-dept Ratio |\n",
    "|-------------|--------------|---------------|\n",
    "|Personal|.140|.10|\n",
    "|Car|.130|.07| \n",
    "|Home|.120|.03|\n",
    "|Farm|.125|.05| \n",
    "|Commercial|.100|.02|\n",
    "\n",
    "Bad debts are unrecoverable and produce no interest revenue.Competition with other financial institutiıns requires that bank allocate at least 40% of the funds to farm and commercial loans.To assit the housing industy in the region, home loans must equal at least 50% of the personal,car and home loans.The bank also has a stated polciy of not allowing the overall ratio of band debts on all loans to exeed 4%.\n",
    "\n",
    "The variables of the problem can be defined as: \n",
    "- x_1 = Personal loans (in millionds of dollars)\n",
    "- x_2 = Car loans\n",
    "- x_3 = Home loans\n",
    "- x_4 = Farm loans\n",
    "- x_5 = Commercial loans\n"
   ]
  },
  {
   "cell_type": "code",
   "execution_count": 54,
   "id": "50456466",
   "metadata": {},
   "outputs": [
    {
     "name": "stdout",
     "output_type": "stream",
     "text": [
      "Investment:\n",
      "MAXIMIZE\n",
      "0.026*x_1 + 0.509*x_2 + 0.0864*x_3 + 0.06875*x_4 + 0.078*x_5 + 0.0\n",
      "SUBJECT TO\n",
      "_C1: x_1 + x_2 + x_3 + x_4 + x_5 <= 12\n",
      "\n",
      "_C2: - 0.4 x_1 - 0.4 x_2 - 0.4 x_3 + 0.6 x_4 + 0.6 x_5 >= 0\n",
      "\n",
      "_C3: - 0.5 x_1 - 0.5 x_2 + 0.5 x_3 >= 0\n",
      "\n",
      "_C4: 0.06 x_1 + 0.03 x_2 - 0.01 x_3 + 0.01 x_4 - 0.02 x_5 <= 0\n",
      "\n",
      "VARIABLES\n",
      "x_1 Continuous\n",
      "x_2 Continuous\n",
      "x_3 Continuous\n",
      "x_4 Continuous\n",
      "x_5 Continuous\n",
      "\n",
      "Optimal\n",
      "x_1= 0.0 x_2= 3.6 x_3= 3.6 x_4= 0.0 x_5= 4.8 z= 2.51784\n"
     ]
    }
   ],
   "source": [
    "#import sys !{sys.executable} -m pip install pulp\n",
    "# import the library pulp as p\n",
    "import pulp as p\n",
    "  \n",
    "# Create a LP Maximizaiton problem\n",
    "Lp_prob = p.LpProblem('Investment', p.LpMaximize) \n",
    "  \n",
    "# Create problem Variables \n",
    "x_1 = p.LpVariable(\"x_1\", lowBound = 0)  \n",
    "x_2 = p.LpVariable(\"x_2\", lowBound = 0)   \n",
    "x_3 = p.LpVariable(\"x_3\", lowBound = 0)  \n",
    "x_4 = p.LpVariable(\"x_4\", lowBound = 0) \n",
    "x_5 = p.LpVariable(\"x_5\", lowBound = 0)  \n",
    "\n",
    "  \n",
    "# Objective Function (Maximiza total interest - bad debt)\n",
    "#Lp_prob += 0.14*(0.9*x_1)+0.13*(0.93*x_2)+0.12*(0.97*x_3)+0.125*(0.95*x_4)+0.1*(0.98*x_5)-(0.1*x_1+0.07*x_2+0.03*x_3+0.05x_4+0.02*x_5)\n",
    "Lp_prob += 0.026*x_1+0.509*x_2+0.0864*x_3+0.06875*x_4+0.078*x_5\n",
    "# Constraints:\n",
    "# Total funds should not exceed $$12 milllion:\n",
    "Lp_prob += x_1+x_2+x_3+x_4+x_5 <=12\n",
    "# Farm and commercial loans equal at least 40% of all loans\n",
    "Lp_prob += x_4+x_5>=0.4*(x_1+x_2+x_3+x_4+x_5)\n",
    "# Home loans should equal at least 50% of personal,car,and home loans\n",
    "Lp_prob += x_3>=0.5*(x_1+x_2+x_3)\n",
    "# Bad depts should not exceed 4% of all loans\n",
    "Lp_prob += 0.1*x_1+0.07*x_2+0.03*x_3+0.05*x_4+0.02*x_5<=0.04*(x_1+x_2+x_3+x_4+x_5)\n",
    "\n",
    "  \n",
    "# Display the problem\n",
    "print(Lp_prob)\n",
    "  \n",
    "status = Lp_prob.solve()   # Solver\n",
    "print(p.LpStatus[status])   # The solution status\n",
    "  \n",
    "    \n",
    "# Printing the final solution\n",
    "print(\"x_1=\",p.value(x_1),\"x_2=\", p.value(x_2), \"x_3=\",p.value(x_3),\"x_4=\", p.value(x_4),\"x_5=\", p.value(x_5), \"z=\",p.value(Lp_prob.objective)) "
   ]
  },
  {
   "cell_type": "markdown",
   "id": "612b84f5",
   "metadata": {},
   "source": [
    "####  Production_Planning_and_Inventory_ControlArbitrage <a name=\"Production_Planning_and_Inventory_Control\"></a>"
   ]
  },
  {
   "cell_type": "markdown",
   "id": "3e725337",
   "metadata": {},
   "source": [
    "####  Blending_and_Refining <a name=\"Blending_and_Refining\"></a>"
   ]
  },
  {
   "cell_type": "markdown",
   "id": "55fcf915",
   "metadata": {},
   "source": [
    "####  Manpower_Planning <a name=\"Manpower_Planning\"></a>"
   ]
  },
  {
   "cell_type": "markdown",
   "id": "f39809eb",
   "metadata": {},
   "source": [
    "#### Additional_Applicaitons  <a name=\"Additional_Applicaitons\"></a>"
   ]
  },
  {
   "cell_type": "markdown",
   "id": "609d9330",
   "metadata": {},
   "source": [
    "## The Simplex Method and Sensitivity Analysis\n",
    "\n",
    "bu örneği al ve değiştirerek uygulam \n",
    "\n",
    "Python implementation of the two phase simplex method within linear programming using Bland's rule\n",
    "\n",
    "The algorithm will provide one of three solutions - a bounded solution, no solution, or an infinite (unbounded) solution.\n",
    "\n",
    "The program takes the following variables:\n",
    "int n: number of inequality equations\n",
    "int m: total variables\n",
    "list a: coefficients of inequality equations in a list of list\n",
    "list b: maximums for each of the inqualities\n",
    "list c: coefficients of the optimization function\n",
    "\n",
    "Example Problem:\n",
    "x + y - 3z <= 10\n",
    "5x + 10y <= -50\n",
    "3x - 2y -4z <= 9\n",
    "Maximize: -x - 6y - 3z\n",
    "\n",
    "You would enter the following within the input prompt:\n",
    "3 3\n",
    "1 1 -3\n",
    "-5 10 0\n",
    "3 -2 -4\n",
    "10 -50 9\n",
    "-1 -6 -3\n",
    "\n",
    "Bounded Solution: 10.000 0.000 5.250"
   ]
  },
  {
   "cell_type": "markdown",
   "id": "4798075e",
   "metadata": {},
   "source": [
    "###  Simplex Algorithm Example of Reddy Miks"
   ]
  },
  {
   "cell_type": "markdown",
   "id": "2c22f3a4",
   "metadata": {},
   "source": [
    "### Summary of simplex method\n",
    "The steps of the simplex method\n",
    "1. Determine a starting basic feasible solution.\n",
    "2. Select an entering variable using th eoptimality condition.Stop if there is no entering variable the last soluiton is optimal.Else go to step 3.\n",
    "3. Select a leaving variable using the feasibility condition.\n",
    "4. Determine the new basic soluiton by using the appropriate Gauss-Jordan computations. Go to Step 2."
   ]
  },
  {
   "cell_type": "markdown",
   "id": "811c1ba0",
   "metadata": {},
   "source": [
    "### Sensitivity Analysis\n",
    "Deals with detemrining the conditions that will keep the current solution unchanged."
   ]
  },
  {
   "cell_type": "markdown",
   "id": "cb976c1e",
   "metadata": {},
   "source": [
    "###  Artificial Starting Solution"
   ]
  },
  {
   "cell_type": "markdown",
   "id": "3e7ca682",
   "metadata": {},
   "source": [
    "####  Big M method"
   ]
  },
  {
   "cell_type": "markdown",
   "id": "5d80a267",
   "metadata": {},
   "source": [
    "#### Special Cases in Simplex Method\n",
    "1. Degenerancy\n",
    "2. Alternative Optima\n",
    "3. Unbounded Soluitions\n",
    "4. Non Existing or infeasible soluitons\n"
   ]
  },
  {
   "cell_type": "markdown",
   "id": "4ae7f541",
   "metadata": {},
   "source": [
    "## Network Models"
   ]
  },
  {
   "cell_type": "markdown",
   "id": "d1be8eb7",
   "metadata": {},
   "source": [
    "## Duality and Post-Optimal Analysis\n",
    "\n",
    "Post-Optimal analaysis which deals with finding a new optimal soluiton when the data of the model are changed."
   ]
  },
  {
   "cell_type": "markdown",
   "id": "00f508d2",
   "metadata": {},
   "source": [
    "## Trasnportaiton Model and Its Variants"
   ]
  },
  {
   "cell_type": "markdown",
   "id": "4e49d7cd",
   "metadata": {},
   "source": [
    "### Scope and Definition of Network Models\n",
    "A multitude of operations research situations can be modeled and solved as networks. \n",
    "1. Design of an offshore natural-gas pipeline network connecting well heads in the Gulf of Mexico to an inshore delivery point.The objective of the model is to minimize the cost od construction the pipeline.\n",
    "2. Determination of the shortest route between two cities in existing network of roads\n",
    "3. Determinaiton of the maximum capatiy of coal slurry pipeline network joining coal mines.\n",
    "4. Determination of the time schedule for the activities of construction project\n",
    "5. Determination of the minimum -cost flow schedule from oil fields to refineries though a pipeline network.\n",
    "\n",
    "The solution of these and algortihms <br>\n",
    "- Minimal spanning tree (for 1) <br>\n",
    "- Shortest-path algortihm (for 2) <br>\n",
    "- Maximal-flow algorithm (for 3) <br>\n",
    "- Critical path (CPM)algorithm (for 4)\n"
   ]
  },
  {
   "cell_type": "markdown",
   "id": "c6df1b45",
   "metadata": {},
   "source": [
    "## Advance Linear Programming"
   ]
  },
  {
   "cell_type": "markdown",
   "id": "086d2ee0",
   "metadata": {},
   "source": [
    "### Simplex Method"
   ]
  },
  {
   "cell_type": "markdown",
   "id": "fd2ecc07",
   "metadata": {},
   "source": [
    "### Revised Simplex Method"
   ]
  },
  {
   "cell_type": "markdown",
   "id": "7658e675",
   "metadata": {},
   "source": [
    "## Goal Programming"
   ]
  },
  {
   "cell_type": "markdown",
   "id": "da0c2f16",
   "metadata": {},
   "source": [
    "### Goal Programing Algorithms\n",
    "1. The Weight Method\n",
    "2. The Preemptive Method"
   ]
  },
  {
   "cell_type": "markdown",
   "id": "ebfb5bc2",
   "metadata": {},
   "source": [
    "## Integer Linear Programming"
   ]
  },
  {
   "cell_type": "markdown",
   "id": "6567a107",
   "metadata": {},
   "source": [
    "### Capital Budgeting Problem"
   ]
  },
  {
   "cell_type": "markdown",
   "id": "d42980b3",
   "metadata": {},
   "source": [
    "### Set Covering Problem"
   ]
  },
  {
   "cell_type": "markdown",
   "id": "49c9274b",
   "metadata": {},
   "source": [
    "### Fixed - Charge Problem"
   ]
  },
  {
   "cell_type": "markdown",
   "id": "8a82156d",
   "metadata": {},
   "source": [
    "###  Job Sequencing Model"
   ]
  },
  {
   "cell_type": "markdown",
   "id": "7a21d070",
   "metadata": {},
   "source": [
    "### Branch-and-bound Algoritm"
   ]
  },
  {
   "cell_type": "markdown",
   "id": "3fcf5573",
   "metadata": {},
   "source": [
    "### Cutting-plane method"
   ]
  },
  {
   "cell_type": "markdown",
   "id": "1f165b87",
   "metadata": {},
   "source": [
    "### Traveling Sales man Problem"
   ]
  },
  {
   "cell_type": "markdown",
   "id": "ae4d9750",
   "metadata": {},
   "source": [
    "### Heuristic Algorihms\n",
    "1. The Nearest-Neighbor Heuristics\n",
    "2. Subtour Reversal Heuristics\n"
   ]
  },
  {
   "cell_type": "markdown",
   "id": "9779b8a0",
   "metadata": {},
   "source": [
    "## Deterministic Dynamic Programming"
   ]
  },
  {
   "cell_type": "markdown",
   "id": "f68f923d",
   "metadata": {},
   "source": [
    "### Knapsack/Flay-away/Cargo-Loading Model\n",
    "### Work Force Size Model\n",
    "### Equipment Replacement Model\n",
    "### Investment Model\n",
    "### Inventory Models"
   ]
  },
  {
   "cell_type": "markdown",
   "id": "7c240a67",
   "metadata": {},
   "source": [
    "## Decision Analysis and Games"
   ]
  },
  {
   "cell_type": "markdown",
   "id": "1ccdacb7",
   "metadata": {},
   "source": [
    "### Decision Making Under Certainty - Analytic Hierarchy Process (AHP)\n",
    "### Decision Making Under Risk\n",
    "### Decision Under Uncertainty\n"
   ]
  },
  {
   "cell_type": "markdown",
   "id": "909eb201",
   "metadata": {},
   "source": [
    "## Nonlinear Programming Algorithms\n",
    "### Unconstrained Algoritms\n",
    "#### Direct Search Method\n"
   ]
  },
  {
   "cell_type": "markdown",
   "id": "8117c6ae",
   "metadata": {},
   "source": [
    "## Facility Plannig \n",
    "#tompkins|white|bozer|tanchoco"
   ]
  },
  {
   "cell_type": "code",
   "execution_count": null,
   "id": "38d31da8",
   "metadata": {},
   "outputs": [],
   "source": []
  }
 ],
 "metadata": {
  "kernelspec": {
   "display_name": "Python 3 (ipykernel)",
   "language": "python",
   "name": "python3"
  },
  "language_info": {
   "codemirror_mode": {
    "name": "ipython",
    "version": 3
   },
   "file_extension": ".py",
   "mimetype": "text/x-python",
   "name": "python",
   "nbconvert_exporter": "python",
   "pygments_lexer": "ipython3",
   "version": "3.9.7"
  }
 },
 "nbformat": 4,
 "nbformat_minor": 5
}
